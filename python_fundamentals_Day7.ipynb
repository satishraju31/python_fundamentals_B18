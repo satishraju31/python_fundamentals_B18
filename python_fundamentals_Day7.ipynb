{
 "cells": [
  {
   "cell_type": "code",
   "execution_count": null,
   "metadata": {},
   "outputs": [],
   "source": [
    "# Understranding user accepted input :"
   ]
  },
  {
   "cell_type": "code",
   "execution_count": null,
   "metadata": {},
   "outputs": [],
   "source": [
    "message = input(\"Give me the input here :\")\n",
    "print(message)"
   ]
  },
  {
   "cell_type": "code",
   "execution_count": null,
   "metadata": {},
   "outputs": [],
   "source": [
    "message =input(\"Tell me something and i will repeate it back to you :\")"
   ]
  },
  {
   "cell_type": "code",
   "execution_count": null,
   "metadata": {},
   "outputs": [],
   "source": [
    "name=input(\"Please enter your name:\")"
   ]
  },
  {
   "cell_type": "code",
   "execution_count": null,
   "metadata": {},
   "outputs": [],
   "source": [
    "# req :I have to greate the user :"
   ]
  },
  {
   "cell_type": "code",
   "execution_count": null,
   "metadata": {},
   "outputs": [],
   "source": [
    "name= input(\"Please enter your name here :\")\n",
    "print(f\"Welcome back, good to have you gain,{name}\")    "
   ]
  },
  {
   "cell_type": "code",
   "execution_count": null,
   "metadata": {},
   "outputs": [],
   "source": [
    "# Further enhancement of the code : \n",
    "name = input(\"Please enter the your name :\")\n",
    "print(f\"Welcome back,goos to have you again,{name.title().\\n}\")"
   ]
  },
  {
   "cell_type": "code",
   "execution_count": null,
   "metadata": {},
   "outputs": [],
   "source": [
    "#By default input function will be treating the input as a string\n",
    "height=input(\"What is your height in inches: \")\n",
    "print(height)"
   ]
  },
  {
   "cell_type": "code",
   "execution_count": null,
   "metadata": {},
   "outputs": [],
   "source": [
    "# understanding the type casting of datatype:\n",
    "# typecasting --> we have to cast the datatype from one form to another form....!!!\n",
    "height=int(\"height\")\n",
    "height<50\n"
   ]
  },
  {
   "cell_type": "code",
   "execution_count": null,
   "metadata": {},
   "outputs": [],
   "source": [
    "#case study :- building a simple voting application:\n",
    "age=input('How old are you ? ')\n",
    "age=int(age)\n",
    "if age>=50 :\n",
    "  print(\"You are eligible to vote\")\n",
    "  print(\"Have you registered your name?\")\n",
    "else :\n",
    "  print(\"You are not eligible for this elections and try to vote next time\")\n",
    "  print(\"Try next time election \")\n"
   ]
  },
  {
   "cell_type": "code",
   "execution_count": null,
   "metadata": {},
   "outputs": [],
   "source": []
  }
 ],
 "metadata": {
  "kernelspec": {
   "display_name": "Python 3",
   "language": "python",
   "name": "python3"
  },
  "language_info": {
   "codemirror_mode": {
    "name": "ipython",
    "version": 3
   },
   "file_extension": ".py",
   "mimetype": "text/x-python",
   "name": "python",
   "nbconvert_exporter": "python",
   "pygments_lexer": "ipython3",
   "version": "3.7.6"
  }
 },
 "nbformat": 4,
 "nbformat_minor": 4
}
