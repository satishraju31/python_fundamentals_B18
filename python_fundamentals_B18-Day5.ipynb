{
 "cells": [
  {
   "cell_type": "code",
   "execution_count": 5,
   "metadata": {},
   "outputs": [
    {
     "name": "stdout",
     "output_type": "stream",
     "text": [
      "['bhavani', 'vamshi', 'ravali', 'suresh', 'tanusri', 'aleem']\n"
     ]
    },
    {
     "data": {
      "text/plain": [
       "list"
      ]
     },
     "execution_count": 5,
     "metadata": {},
     "output_type": "execute_result"
    }
   ],
   "source": [
    "#Introduction to for loop:\n",
    "# For loop is for iterating\n",
    "my_students= ['bhavani','vamshi','ravali','suresh','tanusri','aleem']\n",
    "print(my_students)\n",
    "type(my_students)"
   ]
  },
  {
   "cell_type": "code",
   "execution_count": 13,
   "metadata": {},
   "outputs": [
    {
     "name": "stdout",
     "output_type": "stream",
     "text": [
      "keep up the hard work: Suresh\n"
     ]
    }
   ],
   "source": [
    "#    req1 : to appreciate all the students\n",
    "print(f\"keep up the hard work: {my_students[3].title()}\")"
   ]
  },
  {
   "cell_type": "code",
   "execution_count": null,
   "metadata": {},
   "outputs": [],
   "source": [
    "# General syntax :\n",
    "\n",
    "# for tempvar in mainvar:\n",
    "#    print(tempvar)"
   ]
  },
  {
   "cell_type": "code",
   "execution_count": 19,
   "metadata": {},
   "outputs": [
    {
     "name": "stdout",
     "output_type": "stream",
     "text": [
      "bhavani\n",
      "vamshi\n",
      "ravali\n",
      "suresh\n",
      "tanusri\n",
      "aleem\n"
     ]
    }
   ],
   "source": [
    "for student in my_students :\n",
    "    print(student)"
   ]
  },
  {
   "cell_type": "code",
   "execution_count": 25,
   "metadata": {},
   "outputs": [
    {
     "name": "stdout",
     "output_type": "stream",
     "text": [
      "Keep up the hard work: Bhavani\n",
      "Keep up the hard work: Vamshi\n",
      "Keep up the hard work: Ravali\n",
      "Keep up the hard work: Suresh\n",
      "Keep up the hard work: Tanusri\n",
      "Keep up the hard work: Aleem\n"
     ]
    }
   ],
   "source": [
    "for student in my_students :\n",
    "    print(f\"Keep up the hard work: {student.title()}\")"
   ]
  },
  {
   "cell_type": "code",
   "execution_count": 36,
   "metadata": {},
   "outputs": [
    {
     "name": "stdout",
     "output_type": "stream",
     "text": [
      "I am looking forward to see the practise files from you : Bhavani.\n",
      "\n",
      "I am looking forward to see the practise files from you : Vamshi.\n",
      "\n",
      "I am looking forward to see the practise files from you : Ravali.\n",
      "\n",
      "I am looking forward to see the practise files from you : Suresh.\n",
      "\n",
      "I am looking forward to see the practise files from you : Tanusri.\n",
      "\n",
      "I am looking forward to see the practise files from you : Aleem.\n",
      "\n"
     ]
    }
   ],
   "source": [
    "#    req2 :I am looking forward to see the practise files from you \n",
    "for student in my_students :\n",
    "    print(f\"I am looking forward to see the practise files from you : {student.title()}.\\n\")"
   ]
  },
  {
   "cell_type": "code",
   "execution_count": null,
   "metadata": {},
   "outputs": [],
   "source": [
    "#  Introduction to if condition\n",
    "#   --understanding conditional statments :"
   ]
  },
  {
   "cell_type": "code",
   "execution_count": 58,
   "metadata": {},
   "outputs": [
    {
     "name": "stdout",
     "output_type": "stream",
     "text": [
      "Audi\n",
      "BMW\n",
      "Tata\n",
      "Benz\n",
      "Toyota\n",
      "Honda\n"
     ]
    }
   ],
   "source": [
    "# Eg1 :-\n",
    "cars= ['audi','bmw','tata','benz','toyota','honda']\n",
    "for car in cars :\n",
    "   if car == 'bmw' :\n",
    "     print(car.upper())\n",
    "   else : \n",
    "    print(car.title())\n",
    "\n",
    "# req : to show bmw in upper case and rest of the cars in title case"
   ]
  },
  {
   "cell_type": "code",
   "execution_count": null,
   "metadata": {},
   "outputs": [],
   "source": []
  },
  {
   "cell_type": "code",
   "execution_count": null,
   "metadata": {},
   "outputs": [],
   "source": []
  },
  {
   "cell_type": "code",
   "execution_count": null,
   "metadata": {},
   "outputs": [],
   "source": []
  }
 ],
 "metadata": {
  "kernelspec": {
   "display_name": "Python 3",
   "language": "python",
   "name": "python3"
  },
  "language_info": {
   "codemirror_mode": {
    "name": "ipython",
    "version": 3
   },
   "file_extension": ".py",
   "mimetype": "text/x-python",
   "name": "python",
   "nbconvert_exporter": "python",
   "pygments_lexer": "ipython3",
   "version": "3.7.6"
  }
 },
 "nbformat": 4,
 "nbformat_minor": 4
}
