{
 "cells": [
  {
   "cell_type": "code",
   "execution_count": 1,
   "metadata": {},
   "outputs": [],
   "source": [
    "# Looking through dictonary"
   ]
  },
  {
   "cell_type": "code",
   "execution_count": 2,
   "metadata": {},
   "outputs": [
    {
     "name": "stdout",
     "output_type": "stream",
     "text": [
      "{'f_name': 'satish', 'l_name': 'indukuri', 'user_name': 'satishraju', 'pwd': '12345', 'dob': '30-03-1989'}\n"
     ]
    }
   ],
   "source": [
    "user1={'f_name':'satish','l_name':'indukuri', 'user_name':'satishraju', 'pwd':'12345', 'dob':'30-03-1989'}\n",
    "print(user1)"
   ]
  },
  {
   "cell_type": "code",
   "execution_count": 3,
   "metadata": {},
   "outputs": [],
   "source": [
    "# how do you loop through a dictonary"
   ]
  },
  {
   "cell_type": "code",
   "execution_count": 20,
   "metadata": {},
   "outputs": [
    {
     "name": "stdout",
     "output_type": "stream",
     "text": [
      "key:f_name\n",
      "value:satish\n",
      "key:l_name\n",
      "value:indukuri\n",
      "key:user_name\n",
      "value:satishraju\n",
      "key:pwd\n",
      "value:12345\n",
      "key:dob\n",
      "value:30-03-1989\n"
     ]
    }
   ],
   "source": [
    "for key,value in user1.items():\n",
    " print(f\"key:{key}\")\n",
    " print(f\"value:{value}\")"
   ]
  },
  {
   "cell_type": "code",
   "execution_count": 22,
   "metadata": {},
   "outputs": [
    {
     "name": "stdout",
     "output_type": "stream",
     "text": [
      "\n",
      " key:f_name\n",
      "\n",
      " value:satish\n",
      "\n",
      " key:l_name\n",
      "\n",
      " value:indukuri\n",
      "\n",
      " key:user_name\n",
      "\n",
      " value:satishraju\n",
      "\n",
      " key:pwd\n",
      "\n",
      " value:12345\n",
      "\n",
      " key:dob\n",
      "\n",
      " value:30-03-1989\n"
     ]
    }
   ],
   "source": [
    "# enhancement of the code : Key-Value together\n",
    "for x,y in user1.items():\n",
    "    print(f\"\\n key:{x}\")\n",
    "    print(f\"\\n value:{y}\")"
   ]
  },
  {
   "cell_type": "code",
   "execution_count": 24,
   "metadata": {},
   "outputs": [
    {
     "name": "stdout",
     "output_type": "stream",
     "text": [
      "f_name\n",
      "l_name\n",
      "user_name\n",
      "pwd\n",
      "dob\n"
     ]
    }
   ],
   "source": [
    "# req : I want to get only keys in the output\n",
    "for a in user1.keys():\n",
    "    print(a)"
   ]
  },
  {
   "cell_type": "code",
   "execution_count": 25,
   "metadata": {},
   "outputs": [
    {
     "name": "stdout",
     "output_type": "stream",
     "text": [
      "satish\n",
      "indukuri\n",
      "satishraju\n",
      "12345\n",
      "30-03-1989\n"
     ]
    }
   ],
   "source": [
    "# req : I want to get only keys in the output\n",
    "for b in user1.values():\n",
    "    print(b)"
   ]
  },
  {
   "cell_type": "code",
   "execution_count": null,
   "metadata": {},
   "outputs": [],
   "source": [
    "# req: I am conducting a survey for a group of students choose their languages:"
   ]
  },
  {
   "cell_type": "code",
   "execution_count": 38,
   "metadata": {},
   "outputs": [
    {
     "name": "stdout",
     "output_type": "stream",
     "text": [
      "{'ashok': 'c', 'ravali': 'python', 'satya': 'dellbhoomi', 'suresh': 'python', 'devi': 'c++'}\n"
     ]
    },
    {
     "data": {
      "text/plain": [
       "dict"
      ]
     },
     "execution_count": 38,
     "metadata": {},
     "output_type": "execute_result"
    }
   ],
   "source": [
    "fav_languages={'ashok':'c', 'ravali':'python', 'satya':'dellbhoomi','suresh':'python','devi':'c++'}\n",
    "print(fav_languages)\n",
    "type(fav_languages)"
   ]
  },
  {
   "cell_type": "code",
   "execution_count": 45,
   "metadata": {},
   "outputs": [
    {
     "name": "stdout",
     "output_type": "stream",
     "text": [
      "Ashok's favourite language is C\n",
      "Ravali's favourite language is Python\n",
      "Satya's favourite language is Dellbhoomi\n",
      "Suresh's favourite language is Python\n",
      "Devi's favourite language is C++\n"
     ]
    }
   ],
   "source": [
    "#I want to display the reults to each and everyone :\n",
    "fav_languages={'ashok':'c', 'ravali':'python', 'satya':'dellbhoomi','suresh':'python','devi':'c++'}\n",
    "for name,languages in fav_languages.items():\n",
    "    print(f\"{name.title()}'s favourite language is {languages.title()}\")"
   ]
  },
  {
   "cell_type": "code",
   "execution_count": null,
   "metadata": {},
   "outputs": [],
   "source": []
  },
  {
   "cell_type": "code",
   "execution_count": null,
   "metadata": {},
   "outputs": [],
   "source": []
  },
  {
   "cell_type": "code",
   "execution_count": null,
   "metadata": {},
   "outputs": [],
   "source": []
  }
 ],
 "metadata": {
  "kernelspec": {
   "display_name": "Python 3",
   "language": "python",
   "name": "python3"
  },
  "language_info": {
   "codemirror_mode": {
    "name": "ipython",
    "version": 3
   },
   "file_extension": ".py",
   "mimetype": "text/x-python",
   "name": "python",
   "nbconvert_exporter": "python",
   "pygments_lexer": "ipython3",
   "version": "3.7.6"
  }
 },
 "nbformat": 4,
 "nbformat_minor": 4
}
