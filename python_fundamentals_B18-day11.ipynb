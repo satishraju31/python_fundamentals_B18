{
 "cells": [
  {
   "cell_type": "code",
   "execution_count": null,
   "metadata": {},
   "outputs": [],
   "source": [
    "# Introduction to while loops:\n",
    "\"\"\"\n",
    "It mainly depends on the condition it will execute\n",
    "\"\"\""
   ]
  },
  {
   "cell_type": "code",
   "execution_count": 5,
   "metadata": {},
   "outputs": [
    {
     "name": "stdout",
     "output_type": "stream",
     "text": [
      "1\n",
      "2\n",
      "3\n",
      "4\n",
      "5\n",
      "6\n",
      "7\n",
      "8\n"
     ]
    }
   ],
   "source": [
    "current_number=1\n",
    "while current_number <=8 :\n",
    " print(current_number)\n",
    " current_number +=1"
   ]
  },
  {
   "cell_type": "code",
   "execution_count": 6,
   "metadata": {},
   "outputs": [
    {
     "name": "stdout",
     "output_type": "stream",
     "text": [
      "\n",
      " Tell me something.\n",
      " enter quit to end the program :satish\n",
      "satish\n",
      "\n",
      " Tell me something.\n",
      " enter quit to end the program :raju\n",
      "raju\n",
      "\n",
      " Tell me something.\n",
      " enter quit to end the program :quit\n",
      "quit\n"
     ]
    }
   ],
   "source": [
    "#req1\n",
    "prompt=\"\\n Tell me something.\"\n",
    "prompt +=\"\\n enter quit to end the program :\"\n",
    "\n",
    "message=\" \"\n",
    "while message !='quit' :\n",
    " message=input(prompt) \n",
    " print(message)"
   ]
  },
  {
   "cell_type": "code",
   "execution_count": 7,
   "metadata": {},
   "outputs": [
    {
     "name": "stdout",
     "output_type": "stream",
     "text": [
      "\n",
      " Please enter the name of the city you have visited \n",
      " Enter 'quit' when you are finished hyderabd\n",
      "\n",
      " Please enter the name of the city you have visited \n",
      " Enter 'quit' when you are finished banglore\n",
      "\n",
      " Please enter the name of the city you have visited \n",
      " Enter 'quit' when you are finished quit\n"
     ]
    }
   ],
   "source": [
    "#req2 : Using break to exit a loop:\n",
    "\n",
    "prompt=\"\\n Please enter the name of the city you have visited \"\n",
    "prompt+=\"\\n Enter 'quit' when you are finished \"\n",
    "while True :\n",
    " city=input(prompt)\n",
    " if city =='quit':\n",
    "    break\n",
    "else :\n",
    "    print(f\"I'd love to go to {city.title()}!\")"
   ]
  },
  {
   "cell_type": "code",
   "execution_count": 9,
   "metadata": {},
   "outputs": [
    {
     "name": "stdout",
     "output_type": "stream",
     "text": [
      "USD\n",
      "INR\n"
     ]
    }
   ],
   "source": [
    "# Introduction to functions in python:\n",
    "# req : design a function to display a greeting message\n",
    "\n",
    "\n",
    "def definingfunhere( str ):\n",
    "   \"This prints a passed string into this function\"\n",
    "   \n",
    "   print(str)\n",
    "\n",
    "# Now you can call printme function\n",
    "# Introduction to functions in python:\n",
    "# req : design a function to display a greeting message\n",
    "\n",
    "\n",
    "def definingfunhere( str ):\n",
    "   \"This prints a passed string into this function\"\n",
    "   \n",
    "   print(str)\n",
    "\n",
    "# Now you can call printme function\n",
    "definingfunhere(\"USD\")\n",
    "definingfunhere(\"INR\")\n"
   ]
  },
  {
   "cell_type": "code",
   "execution_count": null,
   "metadata": {},
   "outputs": [],
   "source": []
  },
  {
   "cell_type": "code",
   "execution_count": null,
   "metadata": {},
   "outputs": [],
   "source": []
  },
  {
   "cell_type": "code",
   "execution_count": null,
   "metadata": {},
   "outputs": [],
   "source": []
  },
  {
   "cell_type": "code",
   "execution_count": null,
   "metadata": {},
   "outputs": [],
   "source": []
  },
  {
   "cell_type": "code",
   "execution_count": null,
   "metadata": {},
   "outputs": [],
   "source": []
  },
  {
   "cell_type": "code",
   "execution_count": null,
   "metadata": {},
   "outputs": [],
   "source": []
  },
  {
   "cell_type": "code",
   "execution_count": null,
   "metadata": {},
   "outputs": [],
   "source": []
  },
  {
   "cell_type": "code",
   "execution_count": null,
   "metadata": {},
   "outputs": [],
   "source": []
  }
 ],
 "metadata": {
  "kernelspec": {
   "display_name": "Python 3",
   "language": "python",
   "name": "python3"
  },
  "language_info": {
   "codemirror_mode": {
    "name": "ipython",
    "version": 3
   },
   "file_extension": ".py",
   "mimetype": "text/x-python",
   "name": "python",
   "nbconvert_exporter": "python",
   "pygments_lexer": "ipython3",
   "version": "3.7.6"
  }
 },
 "nbformat": 4,
 "nbformat_minor": 4
}
