{
 "cells": [
  {
   "cell_type": "code",
   "execution_count": null,
   "metadata": {},
   "outputs": [],
   "source": [
    "# Introduction to dictionary data type :\n",
    "\"\"\"\n",
    "Def :- Dictionary data type is a collection of key-value pairs.We can define them in \"{}\" brackets.\n",
    "       It is a mutable data type.It will be resembling as a real world objects.\n",
    "\"\"\""
   ]
  },
  {
   "cell_type": "code",
   "execution_count": 8,
   "metadata": {},
   "outputs": [
    {
     "name": "stdout",
     "output_type": "stream",
     "text": [
      "{'color': 'green', 'points': '5'}\n"
     ]
    },
    {
     "data": {
      "text/plain": [
       "dict"
      ]
     },
     "execution_count": 8,
     "metadata": {},
     "output_type": "execute_result"
    }
   ],
   "source": [
    "# req :- Building an alien game with points :\n",
    "alien_point={ 'color':'green', 'points':'5'}\n",
    "print(alien_point)\n",
    "type(alien_point)"
   ]
  },
  {
   "cell_type": "code",
   "execution_count": 10,
   "metadata": {},
   "outputs": [
    {
     "ename": "SyntaxError",
     "evalue": "invalid syntax (<ipython-input-10-a0af01fe61b9>, line 2)",
     "output_type": "error",
     "traceback": [
      "\u001b[1;36m  File \u001b[1;32m\"<ipython-input-10-a0af01fe61b9>\"\u001b[1;36m, line \u001b[1;32m2\u001b[0m\n\u001b[1;33m    print(alien_point{'color'})\u001b[0m\n\u001b[1;37m                     ^\u001b[0m\n\u001b[1;31mSyntaxError\u001b[0m\u001b[1;31m:\u001b[0m invalid syntax\n"
     ]
    }
   ],
   "source": [
    "# How to access the values from a dictonary : \n",
    "print(alien_point{'color'})\n",
    "print(alien_point{'point'})"
   ]
  },
  {
   "cell_type": "code",
   "execution_count": null,
   "metadata": {},
   "outputs": [],
   "source": [
    "# Req : we have to award the points to the gamer:\n",
    "alien_point={ 'color':'green', 'points':'5'}\n",
    "new_points=aline_point['points']\n",
    "print(f\"you just earned {new_points} points\")"
   ]
  },
  {
   "cell_type": "code",
   "execution_count": 32,
   "metadata": {},
   "outputs": [
    {
     "name": "stdout",
     "output_type": "stream",
     "text": [
      "the alien is in {'color': 'green', 'points': '5'}\n",
      "the alien is in {'color': 'Yellow', 'points': '5'}\n"
     ]
    }
   ],
   "source": [
    "# Modifying the values in the dictonary : From green to yellow and point from 5 to 10\n",
    "alien_point={ 'color':'green', 'points':'5'}\n",
    "print(f\"the alien is in {alien_point}\")\n",
    "alien_point['color']=\"Yellow\"\n",
    "print(f\"the alien is in {alien_point}\")"
   ]
  },
  {
   "cell_type": "code",
   "execution_count": null,
   "metadata": {},
   "outputs": [],
   "source": []
  },
  {
   "cell_type": "code",
   "execution_count": null,
   "metadata": {},
   "outputs": [],
   "source": []
  }
 ],
 "metadata": {
  "kernelspec": {
   "display_name": "Python 3",
   "language": "python",
   "name": "python3"
  },
  "language_info": {
   "codemirror_mode": {
    "name": "ipython",
    "version": 3
   },
   "file_extension": ".py",
   "mimetype": "text/x-python",
   "name": "python",
   "nbconvert_exporter": "python",
   "pygments_lexer": "ipython3",
   "version": "3.7.6"
  }
 },
 "nbformat": 4,
 "nbformat_minor": 4
}
