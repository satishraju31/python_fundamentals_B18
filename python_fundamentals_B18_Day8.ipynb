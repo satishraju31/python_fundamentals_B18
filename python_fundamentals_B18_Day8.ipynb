{
 "cells": [
  {
   "cell_type": "code",
   "execution_count": null,
   "metadata": {},
   "outputs": [],
   "source": [
    "# Introduction to tuple in datatype:-\n",
    "\"\"\"\n",
    "Tuple is an immutable data type. We have to use () bracket.\n",
    "In tuple we cannot be able to alter/modify the data once it has been assigned.\n",
    "\n",
    "\"\"\""
   ]
  },
  {
   "cell_type": "code",
   "execution_count": 7,
   "metadata": {},
   "outputs": [
    {
     "data": {
      "text/plain": [
       "tuple"
      ]
     },
     "execution_count": 7,
     "metadata": {},
     "output_type": "execute_result"
    }
   ],
   "source": [
    "\"Case1\"\n",
    "dimension=(200,50)\n",
    "type(dimension)"
   ]
  },
  {
   "cell_type": "code",
   "execution_count": 8,
   "metadata": {},
   "outputs": [
    {
     "data": {
      "text/plain": [
       "list"
      ]
     },
     "execution_count": 8,
     "metadata": {},
     "output_type": "execute_result"
    }
   ],
   "source": [
    "\"Case2\"\n",
    "dimension=[200,50]\n",
    "type(dimension)"
   ]
  },
  {
   "cell_type": "code",
   "execution_count": 9,
   "metadata": {},
   "outputs": [
    {
     "name": "stdout",
     "output_type": "stream",
     "text": [
      "[200, 50]\n"
     ]
    }
   ],
   "source": [
    "# req : changing the area from 200 --> 250\n",
    "dimension[0]=250\n",
    "print(dimesion)"
   ]
  },
  {
   "cell_type": "code",
   "execution_count": 10,
   "metadata": {},
   "outputs": [
    {
     "name": "stdout",
     "output_type": "stream",
     "text": [
      "(250, 50)\n"
     ]
    }
   ],
   "source": [
    "dimension=(250,50)\n",
    "print(dimension)"
   ]
  },
  {
   "cell_type": "code",
   "execution_count": 11,
   "metadata": {},
   "outputs": [
    {
     "name": "stdout",
     "output_type": "stream",
     "text": [
      "40\n"
     ]
    }
   ],
   "source": [
    "max_no_connections=100\n",
    "dimension=(200,50,40,60)\n",
    "print(dimension[2])"
   ]
  },
  {
   "cell_type": "code",
   "execution_count": null,
   "metadata": {},
   "outputs": [],
   "source": [
    "# Introduction to dictonary data type : ***\n",
    "\"\"\"\n",
    "It will be referenced as a real world data objects.It will be a mutable data type.\n",
    "We can define a dictonary by  \"{}\" flower brackets.\n",
    "In Dictonary data type stores the data in the form of \"KEY-VALUE\" pairs.\n",
    "\n",
    "\"\"\""
   ]
  },
  {
   "cell_type": "code",
   "execution_count": null,
   "metadata": {},
   "outputs": [],
   "source": [
    "# Facebook(key)--Signin(value)\n",
    "firstname=satishraju\n",
    "lastname=indukuri\n",
    "username=satishrajui\n",
    "pwd= passwordbeforechanging\n",
    "emailid=mailtoraju@gmail.com\n",
    "dob=30-03-1989"
   ]
  },
  {
   "cell_type": "code",
   "execution_count": 52,
   "metadata": {},
   "outputs": [
    {
     "name": "stdout",
     "output_type": "stream",
     "text": [
      "{'firstname': 'satishraju', 'lastname': 'indukuri', 'username': 'satishrajui', 'pwd': 'passwordbeforechanging', 'emailid': 'mailtoraju@gmail.com', 'dob': '30-03-1989'}\n"
     ]
    }
   ],
   "source": [
    "useraccount={'firstname':'satishraju','lastname':'indukuri','username':'satishrajui',\n",
    "             'pwd':'passwordbeforechanging','emailid':'mailtoraju@gmail.com','dob':'30-03-1989'}\n",
    "print(useraccount)\n"
   ]
  },
  {
   "cell_type": "code",
   "execution_count": 53,
   "metadata": {},
   "outputs": [
    {
     "name": "stdout",
     "output_type": "stream",
     "text": [
      "satishraju\n",
      "30-03-1989\n"
     ]
    }
   ],
   "source": [
    "print(useraccount['firstname'])\n",
    "print(useraccount['dob'])"
   ]
  },
  {
   "cell_type": "code",
   "execution_count": 56,
   "metadata": {},
   "outputs": [
    {
     "name": "stdout",
     "output_type": "stream",
     "text": [
      "{'firstname': 'satishraju', 'lastname': 'indukuri', 'username': 'satishrajui', 'pwd': 'Newpassword', 'emailid': 'mailtoraju@gmail.com', 'dob': '30-03-1989'}\n"
     ]
    }
   ],
   "source": [
    "# How to retrive/access the value from dictonary\n",
    "useraccount['pwd']=\"Newpassword\"\n",
    "print(useraccount)"
   ]
  },
  {
   "cell_type": "code",
   "execution_count": 58,
   "metadata": {},
   "outputs": [
    {
     "name": "stdout",
     "output_type": "stream",
     "text": [
      "indukuri\n"
     ]
    },
    {
     "ename": "KeyError",
     "evalue": "'indukuri'",
     "output_type": "error",
     "traceback": [
      "\u001b[1;31m---------------------------------------------------------------------------\u001b[0m",
      "\u001b[1;31mKeyError\u001b[0m                                  Traceback (most recent call last)",
      "\u001b[1;32m<ipython-input-58-48b3a5555bd8>\u001b[0m in \u001b[0;36m<module>\u001b[1;34m\u001b[0m\n\u001b[0;32m      4\u001b[0m \u001b[1;33m\u001b[0m\u001b[0m\n\u001b[0;32m      5\u001b[0m \u001b[1;31m# Using value we are accessing the keys examaple\u001b[0m\u001b[1;33m\u001b[0m\u001b[1;33m\u001b[0m\u001b[1;33m\u001b[0m\u001b[0m\n\u001b[1;32m----> 6\u001b[1;33m \u001b[0mprint\u001b[0m\u001b[1;33m(\u001b[0m\u001b[0museraccount\u001b[0m\u001b[1;33m[\u001b[0m\u001b[1;34m'indukuri'\u001b[0m\u001b[1;33m]\u001b[0m\u001b[1;33m)\u001b[0m\u001b[1;33m\u001b[0m\u001b[1;33m\u001b[0m\u001b[0m\n\u001b[0m",
      "\u001b[1;31mKeyError\u001b[0m: 'indukuri'"
     ]
    }
   ],
   "source": [
    "# By using the keys we can access the values but by using the values we can't access the keys ****\n",
    "# Using keys we are accessing the values examaple\n",
    "print(useraccount['lastname'])\n",
    "\n",
    "# Using value we are accessing the keys examaple\n",
    "print(useraccount['indukuri'])"
   ]
  }
 ],
 "metadata": {
  "kernelspec": {
   "display_name": "Python 3",
   "language": "python",
   "name": "python3"
  },
  "language_info": {
   "codemirror_mode": {
    "name": "ipython",
    "version": 3
   },
   "file_extension": ".py",
   "mimetype": "text/x-python",
   "name": "python",
   "nbconvert_exporter": "python",
   "pygments_lexer": "ipython3",
   "version": "3.7.6"
  }
 },
 "nbformat": 4,
 "nbformat_minor": 4
}
