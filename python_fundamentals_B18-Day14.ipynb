{
 "cells": [
  {
   "cell_type": "code",
   "execution_count": null,
   "metadata": {},
   "outputs": [],
   "source": [
    "\"\"\"\n",
    "# Introduction to class in python:\n",
    "def \n",
    "class: A class is nothing but a blue print of a program\n",
    "method : A function written inside a class\n",
    "attribute : A variable is inside a class\n",
    "self : A self is a temprarory place holder for a object\n",
    "\"\"\"\n",
    "\n",
    "\n"
   ]
  },
  {
   "cell_type": "code",
   "execution_count": 1,
   "metadata": {},
   "outputs": [
    {
     "name": "stdout",
     "output_type": "stream",
     "text": [
      "sati\n",
      "Hello sati welcome to our class !\n"
     ]
    }
   ],
   "source": [
    "\"\"\"\n",
    "# req : Design a class \n",
    "1.it needs the accept the input from the user as the username\n",
    "2.display the username \n",
    "3.greet the user\n",
    "fullname should be in smaller case \n",
    "class name have to be in maintain title case\n",
    "assign it to self\n",
    "\"\"\"\n",
    "\n",
    "# Eg:1\n",
    "class test :\n",
    "    \"\"\" Designing a simple class to the user profile \"\"\"  \n",
    "  def createname(self,name):\n",
    "   self.name=name\n",
    "  def dispalyname(self):\n",
    "   print(self.name)\n",
    "  def greet(self):\n",
    "   print(f\"Hello {self.name} welcome to our class !\")\n",
    "xobj=test()\n",
    "xobj.createname('sati')\n",
    "xobj.dispalyname()\n",
    "xobj.greet()"
   ]
  },
  {
   "cell_type": "code",
   "execution_count": 4,
   "metadata": {},
   "outputs": [
    {
     "name": "stdout",
     "output_type": "stream",
     "text": [
      "amith\n",
      "Hello amith welcome to our class !\n"
     ]
    }
   ],
   "source": [
    "# Eg:2\n",
    "batman=test()\n",
    "batman.createname('amith')\n",
    "batman.dispalyname()\n",
    "batman.greet()\n"
   ]
  },
  {
   "cell_type": "code",
   "execution_count": null,
   "metadata": {},
   "outputs": [],
   "source": []
  },
  {
   "cell_type": "code",
   "execution_count": null,
   "metadata": {},
   "outputs": [],
   "source": []
  },
  {
   "cell_type": "code",
   "execution_count": null,
   "metadata": {},
   "outputs": [],
   "source": []
  },
  {
   "cell_type": "code",
   "execution_count": null,
   "metadata": {},
   "outputs": [],
   "source": []
  },
  {
   "cell_type": "code",
   "execution_count": null,
   "metadata": {},
   "outputs": [],
   "source": []
  },
  {
   "cell_type": "code",
   "execution_count": null,
   "metadata": {},
   "outputs": [],
   "source": []
  },
  {
   "cell_type": "code",
   "execution_count": null,
   "metadata": {},
   "outputs": [],
   "source": []
  },
  {
   "cell_type": "code",
   "execution_count": null,
   "metadata": {},
   "outputs": [],
   "source": []
  },
  {
   "cell_type": "code",
   "execution_count": null,
   "metadata": {},
   "outputs": [],
   "source": []
  }
 ],
 "metadata": {
  "kernelspec": {
   "display_name": "Python 3",
   "language": "python",
   "name": "python3"
  },
  "language_info": {
   "codemirror_mode": {
    "name": "ipython",
    "version": 3
   },
   "file_extension": ".py",
   "mimetype": "text/x-python",
   "name": "python",
   "nbconvert_exporter": "python",
   "pygments_lexer": "ipython3",
   "version": "3.7.6"
  }
 },
 "nbformat": 4,
 "nbformat_minor": 4
}
