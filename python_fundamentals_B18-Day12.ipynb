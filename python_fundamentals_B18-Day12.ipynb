{
 "cells": [
  {
   "cell_type": "code",
   "execution_count": null,
   "metadata": {},
   "outputs": [],
   "source": [
    "\"\"\"\n",
    "#Understanding function in python:\n",
    "Function is used the code for reusability.\n",
    "To to declare a function name ---> small case naming convesion is used.\n",
    "def is the keyword to be used.\n",
    "\"\"\""
   ]
  },
  {
   "cell_type": "code",
   "execution_count": 1,
   "metadata": {},
   "outputs": [
    {
     "name": "stdout",
     "output_type": "stream",
     "text": [
      "welcome to you, naresh\n"
     ]
    }
   ],
   "source": [
    "#req : Defining a greeting function to greet a user.\n",
    "def greet_user(username):\n",
    "    \"\"\"Dispalying a simple greeting message to the user\"\"\"\n",
    "    print(f\"welcome to you, {username}\")\n",
    "greet_user('naresh')"
   ]
  },
  {
   "cell_type": "code",
   "execution_count": 2,
   "metadata": {},
   "outputs": [
    {
     "name": "stdout",
     "output_type": "stream",
     "text": [
      "welcome to you, Suresh\n"
     ]
    }
   ],
   "source": [
    "#understading the concepts of parameters and arguments :\n",
    "\n",
    "def greet_user(username): #Passing parameters\n",
    "    \"\"\"Dispalying a simple greeting message to the user\"\"\"\n",
    "    print(f\"welcome to you, {username.title()}\")\n",
    "greet_user('suresh') #Passing parameters"
   ]
  },
  {
   "cell_type": "code",
   "execution_count": 3,
   "metadata": {},
   "outputs": [
    {
     "name": "stdout",
     "output_type": "stream",
     "text": [
      "\n",
      "I have a Dog\n",
      "My Dog's name is Jessy\n"
     ]
    }
   ],
   "source": [
    "#req : parameters we need to declare -->descibing petname and animaltype :\n",
    "def describe_pet(animal_name,pet_name):\n",
    "  \"\"\"Displaying information about a pet\"\"\"\n",
    "  print(f\"\\nI have a {animal_name}\" )\n",
    "  print(f\"My {animal_name}'s name is {pet_name.title()}\")\n",
    "describe_pet(\"Dog\",\"jessy\")"
   ]
  },
  {
   "cell_type": "code",
   "execution_count": null,
   "metadata": {},
   "outputs": [],
   "source": [
    "# doing multiple function calls:\n",
    "describe_pet(\"brid\",\"peacock\") \n",
    "describe_pet(\"Fish\",\"roghu\")"
   ]
  },
  {
   "cell_type": "code",
   "execution_count": 4,
   "metadata": {},
   "outputs": [
    {
     "name": "stdout",
     "output_type": "stream",
     "text": [
      "\n",
      " I have a rex\n",
      "My rex's name is alex\n"
     ]
    }
   ],
   "source": [
    "#understanding the default arguments:\n",
    "def describe_pet(animal_name,pet_name):\n",
    "  \"\"\"Displaying information about a pet\"\"\"\n",
    "  print(f\"\\n I have a {animal_name}\")\n",
    "  print(f\"My {animal_name}'s name is {pet_name}\")\n",
    "describe_pet('rex','alex')\n"
   ]
  },
  {
   "cell_type": "code",
   "execution_count": null,
   "metadata": {},
   "outputs": [],
   "source": []
  },
  {
   "cell_type": "code",
   "execution_count": null,
   "metadata": {},
   "outputs": [],
   "source": []
  },
  {
   "cell_type": "code",
   "execution_count": null,
   "metadata": {},
   "outputs": [],
   "source": []
  },
  {
   "cell_type": "code",
   "execution_count": null,
   "metadata": {},
   "outputs": [],
   "source": []
  },
  {
   "cell_type": "code",
   "execution_count": null,
   "metadata": {},
   "outputs": [],
   "source": []
  },
  {
   "cell_type": "code",
   "execution_count": null,
   "metadata": {},
   "outputs": [],
   "source": []
  },
  {
   "cell_type": "code",
   "execution_count": null,
   "metadata": {},
   "outputs": [],
   "source": []
  }
 ],
 "metadata": {
  "kernelspec": {
   "display_name": "Python 3",
   "language": "python",
   "name": "python3"
  },
  "language_info": {
   "codemirror_mode": {
    "name": "ipython",
    "version": 3
   },
   "file_extension": ".py",
   "mimetype": "text/x-python",
   "name": "python",
   "nbconvert_exporter": "python",
   "pygments_lexer": "ipython3",
   "version": "3.7.6"
  }
 },
 "nbformat": 4,
 "nbformat_minor": 4
}
