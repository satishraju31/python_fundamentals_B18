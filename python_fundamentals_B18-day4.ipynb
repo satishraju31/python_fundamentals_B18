{
 "cells": [
  {
   "cell_type": "code",
   "execution_count": 3,
   "metadata": {},
   "outputs": [],
   "source": [
    "#Day4 introduction to list data types :\n",
    "\n",
    "#A list is  a collection of items in a particular order. List is a mutable data.We can define a list in \"[]\" ."
   ]
  },
  {
   "cell_type": "code",
   "execution_count": 4,
   "metadata": {},
   "outputs": [
    {
     "name": "stdout",
     "output_type": "stream",
     "text": [
      "['Satish', 'Sai', 'Sruthi', 'Sudha', 'Vijay', 'Reenu', 'Shiva', 'Pragna']\n"
     ]
    }
   ],
   "source": [
    "#eg1:-\n",
    "students= [\"Satish\",\"Sai\",\"Sruthi\",\"Sudha\",\"Vijay\",\"Reenu\",\"Shiva\",\"Pragna\"]\n",
    "print(students)"
   ]
  },
  {
   "cell_type": "code",
   "execution_count": 13,
   "metadata": {},
   "outputs": [
    {
     "name": "stdout",
     "output_type": "stream",
     "text": [
      "Satish\n",
      "Shiva\n"
     ]
    }
   ],
   "source": [
    "#requriment1:- how the order of items will be maintaning\n",
    "print(students[0])\n",
    "print(students[6])\n"
   ]
  },
  {
   "cell_type": "code",
   "execution_count": 18,
   "metadata": {},
   "outputs": [
    {
     "name": "stdout",
     "output_type": "stream",
     "text": [
      "['Satish', 'Sai', 'Sruthi', 'Sudha', 'Vijay', 'sanvi', 'Shiva', 'Pragna']\n"
     ]
    }
   ],
   "source": [
    "#requriment2:- Reassiging, adding and deleting the elements from list\n",
    "#   a)reassigning the elements in the list\n",
    "#     reenu is replacing with sanvi\n",
    "students[5]= \"sanvi\"\n",
    "print(students)"
   ]
  },
  {
   "cell_type": "code",
   "execution_count": 28,
   "metadata": {},
   "outputs": [
    {
     "name": "stdout",
     "output_type": "stream",
     "text": [
      "['Satish', 'Sai', 'Sruthi', 'Sudha', 'Vijay', 'Reenu', 'Shiva', 'Pragna', 'aleem']\n",
      "['Satish', 'naeem', 'Sai', 'Sruthi', 'Sudha', 'Vijay', 'Reenu', 'Shiva', 'Pragna', 'aleem']\n",
      "['Satish', 'naeem', 'Sai', 'Sruthi', 'Sudha', 'Vijay', 'Shiva', 'Pragna', 'aleem']\n"
     ]
    }
   ],
   "source": [
    "#   b)Adding the elements in the list\n",
    "#-----------------------------------------------------------------------------------\n",
    "#   I want to add aleem in the list\n",
    "students= [\"Satish\",\"Sai\",\"Sruthi\",\"Sudha\",\"Vijay\",\"Reenu\",\"Shiva\",\"Pragna\"]\n",
    "students.append(\"aleem\")\n",
    "print(students)\n",
    "#----------------------------------------------------------------------------------\n",
    "#   I want to add element in the list for my choice\n",
    "students.insert(1,\"naeem\")\n",
    "print(students)\n",
    "#-----------------------------------------------------------------------------------\n",
    "# I want to delete the element from the list\n",
    "del students[6]\n",
    "print(students)"
   ]
  },
  {
   "cell_type": "code",
   "execution_count": 30,
   "metadata": {},
   "outputs": [
    {
     "name": "stdout",
     "output_type": "stream",
     "text": [
      "['Satish', 'naeem', 'Sai', 'Sruthi', 'Sudha', 'Vijay', 'Shiva']\n",
      "['Satish', 'Sai', 'Sruthi', 'Sudha', 'Vijay', 'Shiva']\n"
     ]
    }
   ],
   "source": [
    "# Introduction of pop method :\n",
    "#  it will delete the element from the list.It will not delete the items permanently\n",
    "\n",
    "students.pop()\n",
    "print(students)\n",
    "\n",
    "#Deleting the items as per our choice\n",
    "students.pop(1)\n",
    "print(students)"
   ]
  },
  {
   "cell_type": "code",
   "execution_count": null,
   "metadata": {},
   "outputs": [],
   "source": []
  },
  {
   "cell_type": "code",
   "execution_count": null,
   "metadata": {},
   "outputs": [],
   "source": []
  },
  {
   "cell_type": "code",
   "execution_count": null,
   "metadata": {},
   "outputs": [],
   "source": []
  },
  {
   "cell_type": "code",
   "execution_count": null,
   "metadata": {},
   "outputs": [],
   "source": []
  },
  {
   "cell_type": "code",
   "execution_count": null,
   "metadata": {},
   "outputs": [],
   "source": []
  },
  {
   "cell_type": "code",
   "execution_count": null,
   "metadata": {},
   "outputs": [],
   "source": []
  },
  {
   "cell_type": "code",
   "execution_count": null,
   "metadata": {},
   "outputs": [],
   "source": []
  },
  {
   "cell_type": "code",
   "execution_count": null,
   "metadata": {},
   "outputs": [],
   "source": []
  }
 ],
 "metadata": {
  "kernelspec": {
   "display_name": "Python 3",
   "language": "python",
   "name": "python3"
  },
  "language_info": {
   "codemirror_mode": {
    "name": "ipython",
    "version": 3
   },
   "file_extension": ".py",
   "mimetype": "text/x-python",
   "name": "python",
   "nbconvert_exporter": "python",
   "pygments_lexer": "ipython3",
   "version": "3.7.6"
  }
 },
 "nbformat": 4,
 "nbformat_minor": 4
}
