{
 "cells": [
  {
   "cell_type": "code",
   "execution_count": null,
   "metadata": {},
   "outputs": [],
   "source": [
    "# Introduction to constructor:\n",
    "Def : A constructor is used to intilize the things or invoke the things"
   ]
  },
  {
   "cell_type": "code",
   "execution_count": 2,
   "metadata": {},
   "outputs": [
    {
     "name": "stdout",
     "output_type": "stream",
     "text": [
      "Rex is now sitting\n"
     ]
    }
   ],
   "source": [
    "\n",
    "\n",
    "class dog:\n",
    "    \n",
    "  def __init__ (self,name,age):\n",
    "        \n",
    "    \"\"\"A simple attempt to model a dog\"\"\"\n",
    "\n",
    "    self.name = name\n",
    "    self.age=age\n",
    "\n",
    "      \n",
    "  def sit(self):\n",
    "        \n",
    "    \"\"\"Simulating a dog sitting in response to a command\"\"\"\n",
    "    print(f\"{self.name} is now sitting\")\n",
    "\n",
    "\n",
    "  def roll_over(self):\n",
    "    \"\"\"Simulating a rooling over response to a command\"\"\"\n",
    "    print(f\"{self.name} is now rolling\")\n",
    "\n",
    "\n",
    "  def sleep(self):\n",
    "    \"\"\"Simulating a sleeping response to a command\"\"\"\n",
    "    print(f\"{self.name} is sleeping\")\n",
    "aobj=dog(\"Rex\",2)\n",
    "aobj.sit()\n",
    " "
   ]
  },
  {
   "cell_type": "code",
   "execution_count": null,
   "metadata": {},
   "outputs": [],
   "source": []
  },
  {
   "cell_type": "code",
   "execution_count": null,
   "metadata": {},
   "outputs": [],
   "source": []
  },
  {
   "cell_type": "code",
   "execution_count": null,
   "metadata": {},
   "outputs": [],
   "source": []
  },
  {
   "cell_type": "code",
   "execution_count": null,
   "metadata": {},
   "outputs": [],
   "source": []
  },
  {
   "cell_type": "code",
   "execution_count": null,
   "metadata": {},
   "outputs": [],
   "source": []
  },
  {
   "cell_type": "code",
   "execution_count": null,
   "metadata": {},
   "outputs": [],
   "source": []
  },
  {
   "cell_type": "code",
   "execution_count": null,
   "metadata": {},
   "outputs": [],
   "source": []
  },
  {
   "cell_type": "code",
   "execution_count": null,
   "metadata": {},
   "outputs": [],
   "source": []
  },
  {
   "cell_type": "code",
   "execution_count": null,
   "metadata": {},
   "outputs": [],
   "source": []
  },
  {
   "cell_type": "code",
   "execution_count": null,
   "metadata": {},
   "outputs": [],
   "source": []
  },
  {
   "cell_type": "code",
   "execution_count": null,
   "metadata": {},
   "outputs": [],
   "source": []
  },
  {
   "cell_type": "code",
   "execution_count": null,
   "metadata": {},
   "outputs": [],
   "source": []
  },
  {
   "cell_type": "code",
   "execution_count": null,
   "metadata": {},
   "outputs": [],
   "source": []
  }
 ],
 "metadata": {
  "kernelspec": {
   "display_name": "Python 3",
   "language": "python",
   "name": "python3"
  },
  "language_info": {
   "codemirror_mode": {
    "name": "ipython",
    "version": 3
   },
   "file_extension": ".py",
   "mimetype": "text/x-python",
   "name": "python",
   "nbconvert_exporter": "python",
   "pygments_lexer": "ipython3",
   "version": "3.7.6"
  }
 },
 "nbformat": 4,
 "nbformat_minor": 4
}
