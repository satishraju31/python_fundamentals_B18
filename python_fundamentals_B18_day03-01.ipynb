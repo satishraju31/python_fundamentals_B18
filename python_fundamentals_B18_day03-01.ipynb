{
 "cells": [
  {
   "cell_type": "code",
   "execution_count": null,
   "metadata": {},
   "outputs": [],
   "source": [
    "# f string in python :"
   ]
  },
  {
   "cell_type": "code",
   "execution_count": 26,
   "metadata": {},
   "outputs": [
    {
     "name": "stdout",
     "output_type": "stream",
     "text": [
      "ABC DEF\n"
     ]
    }
   ],
   "source": [
    "# example for f string\n",
    "a=\"ABC\"\n",
    "b=\"DEF\"\n",
    "# c=a+b ----?\n",
    "c = f\"{a} {b}\"\n",
    "print(c)"
   ]
  },
  {
   "cell_type": "code",
   "execution_count": 25,
   "metadata": {},
   "outputs": [
    {
     "name": "stdout",
     "output_type": "stream",
     "text": [
      "Keep up your hard work till the end : satish raju\n"
     ]
    }
   ],
   "source": [
    "#enhancement of code\n",
    "first_name=\"satish\"\n",
    "last_name=\"raju\"\n",
    "full_name= f\"Keep up your hard work till the end : {first_name} {last_name}\"\n",
    "print(full_name)"
   ]
  },
  {
   "cell_type": "code",
   "execution_count": 37,
   "metadata": {},
   "outputs": [
    {
     "name": "stdout",
     "output_type": "stream",
     "text": [
      "\n",
      "satish\n",
      "satish \n",
      "raju\n",
      " satish\n",
      "satish \n",
      "satish \n",
      "\traju\n",
      "Fav_languages: \n",
      "\tMaths \n",
      "\tenglish \n",
      "\tscience \n",
      "\tsocial \n",
      "\tnetworking\n"
     ]
    }
   ],
   "source": [
    "#Adding whitespaces to the strings by new line and tab delimiter\n",
    "print(\"\\nsatish\")\n",
    "print(\"satish\",\"\\nraju\")\n",
    "print(\" satish\") # putting gap in left side\n",
    "print(\"satish \") # putting gap in right side\n",
    "print(\"satish\",\"\\n\\traju\")\n",
    "print(\"Fav_languages:\",\"\\n\\tMaths\",\"\\n\\tenglish\",\"\\n\\tscience\",\"\\n\\tsocial\",\"\\n\\tnetworking\")"
   ]
  },
  {
   "cell_type": "code",
   "execution_count": 44,
   "metadata": {},
   "outputs": [
    {
     "name": "stdout",
     "output_type": "stream",
     "text": [
      "leftspace\n",
      "rightside\n",
      "leftandright\n"
     ]
    }
   ],
   "source": [
    "#removing spaces \n",
    "a=\" leftspace\"\n",
    "print(a.lstrip())\n",
    "b=\"rightside \"\n",
    "print(b.rstrip())\n",
    "c=\" leftandright \"\n",
    "print(c.strip())"
   ]
  },
  {
   "cell_type": "code",
   "execution_count": null,
   "metadata": {},
   "outputs": [],
   "source": []
  },
  {
   "cell_type": "code",
   "execution_count": null,
   "metadata": {},
   "outputs": [],
   "source": []
  },
  {
   "cell_type": "code",
   "execution_count": null,
   "metadata": {},
   "outputs": [],
   "source": []
  },
  {
   "cell_type": "code",
   "execution_count": null,
   "metadata": {},
   "outputs": [],
   "source": []
  },
  {
   "cell_type": "code",
   "execution_count": null,
   "metadata": {},
   "outputs": [],
   "source": []
  },
  {
   "cell_type": "code",
   "execution_count": null,
   "metadata": {},
   "outputs": [],
   "source": []
  },
  {
   "cell_type": "code",
   "execution_count": null,
   "metadata": {},
   "outputs": [],
   "source": []
  }
 ],
 "metadata": {
  "kernelspec": {
   "display_name": "Python 3",
   "language": "python",
   "name": "python3"
  },
  "language_info": {
   "codemirror_mode": {
    "name": "ipython",
    "version": 3
   },
   "file_extension": ".py",
   "mimetype": "text/x-python",
   "name": "python",
   "nbconvert_exporter": "python",
   "pygments_lexer": "ipython3",
   "version": "3.7.6"
  }
 },
 "nbformat": 4,
 "nbformat_minor": 4
}
